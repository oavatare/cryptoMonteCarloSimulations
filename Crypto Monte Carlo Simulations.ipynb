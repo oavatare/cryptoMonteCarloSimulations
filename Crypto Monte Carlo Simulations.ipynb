{
 "cells": [
  {
   "cell_type": "code",
   "execution_count": 3,
   "metadata": {},
   "outputs": [],
   "source": [
    "# Cloned from https://github.com/zeyaam95/Bitcoin-Monte-Carlo-Simulation\n",
    "# My changes were to update this simulation with updated data for Bitcoin, Ethereum, and Litecoin to June 2019\n",
    "# My data source: http://www.cryptodatadownload.com/data/northamerican/\n",
    "\n",
    "# Monte Carlo Articles\n",
    "# https://medium.com/@c.oelrichs/modelling-economic-change-using-monte-carlo-simulations-1e3b931f0b7c\n",
    "# https://www.economy.com/home/products/samples/2018-09-05-Assigning-Probabilities-to-Macroeconomic-Scenarios.pdf\n"
   ]
  },
  {
   "cell_type": "code",
   "execution_count": 6,
   "metadata": {},
   "outputs": [
    {
     "name": "stdout",
     "output_type": "stream",
     "text": [
      "\n",
      "* * * * * * * * * * * * * * * * * *\n",
      "Number of Simulations:  500\n",
      "Average predicted price of BTC on 6/2/2020: $17004.95\n",
      "Probability that BTC is over $20K by 6/2/2020: 0.292\n",
      "Probability that BTC is over $30K by 6/2/2020: 0.136\n",
      "Probability that BTC is over $40K by 6/2/2020: 0.068\n",
      "\n",
      "* * * * * * * * * * * * * * * * * *\n"
     ]
    }
   ],
   "source": [
    "import random\n",
    "import pandas as pd\n",
    "import numpy as np\n",
    "from scipy.stats import norm\n",
    "\n",
    "btc = pd.DataFrame(pd.read_csv(\"btcprices.csv\"))\n",
    "btcReturns = [np.log(btc.Close[i]/btc.Close[i+1]) for i in range(730)]\n",
    "btcPrices = list(btc.Close[:1460])[::-1]\n",
    "btcStd = np.std(btcReturns, ddof=1)\n",
    "btcAvg = np.average(btcReturns)\n",
    "btcVar = btcStd**2\n",
    "drift = btcAvg - (btcVar/2)\n",
    "over20k, over30k, over40k = [], [], []\n",
    "numbOfSims = 500\n",
    "endPrice = 0\n",
    "print(\"\\n* * * * * * * * * * * * * * * * * *\\nNumber of Simulations: \", numbOfSims)\n",
    "for simulation in range(numbOfSims):\n",
    "    btcPred = [btcPrices[-1]]\n",
    "    for day in range(366):\n",
    "        btcPred.append(btcPred[-1]*np.exp(drift+btcStd *\n",
    "                                          norm.ppf(random.SystemRandom.random(0))))\n",
    "    over20k.append((0 if btcPred[-1] <= 20000 else 1))\n",
    "    over30k.append((0 if btcPred[-1] <= 30000 else 1))\n",
    "    over40k.append((0 if btcPred[-1] <= 40000 else 1))\n",
    "    endPrice += btcPred[-1]\n",
    "\n",
    "prob20k, prob30k, prob40k = (over20k.count(1)/numbOfSims), (over30k.count(1)/numbOfSims), (over40k.count(1)/numbOfSims)\n",
    "print(\n",
    "    \"Average predicted price of BTC on 6/2/2020: ${:.2f}\".format(endPrice/numbOfSims))\n",
    "print(\"Probability that BTC is over $20K by 6/2/2020: {}\\nProbability that BTC is over $30K by 6/2/2020: {}\\nProbability that BTC is over $40K by 6/2/2020: {}\\n\"\n",
    "      .format(prob20k, prob30k, prob40k))\n",
    "print(\"* * * * * * * * * * * * * * * * * *\")"
   ]
  },
  {
   "cell_type": "code",
   "execution_count": 7,
   "metadata": {},
   "outputs": [
    {
     "name": "stdout",
     "output_type": "stream",
     "text": [
      "\n",
      "* * * * * * * * * * * * * * * * * *\n",
      "Number of Simulations:  500\n",
      "Average predicted price of ETH on 6/2/2020: $350.79\n",
      "Probability that ETH is over $500 by 6/2/2020: 0.2\n",
      "Probability that ETH is over $1K by 6/2/2020: 0.076\n",
      "Probability that BTC is over $1.5K by 6/2/2020: 0.036\n",
      "\n",
      "* * * * * * * * * * * * * * * * * *\n"
     ]
    }
   ],
   "source": [
    "eth = pd.DataFrame(pd.read_csv(\"ethprices.csv\"))\n",
    "ethReturns = [np.log(eth.Close[i]/eth.Close[i+1]) for i in range(730)]\n",
    "ethPrices = list(eth.Close[:1000])[::-1]\n",
    "ethStd = np.std(ethReturns, ddof=1)\n",
    "ethAvg = np.average(ethReturns)\n",
    "ethVar = ethStd**2\n",
    "drift = ethAvg - (ethVar/2)\n",
    "over500, over1000, over1500 = [], [], []\n",
    "numbOfSims = 500\n",
    "endPrice = 0\n",
    "print(\"\\n* * * * * * * * * * * * * * * * * *\\nNumber of Simulations: \", numbOfSims)\n",
    "for simulation in range(numbOfSims):\n",
    "    ethPred = [ethPrices[-1]]\n",
    "    for day in range(366):\n",
    "        ethPred.append(ethPred[-1]*np.exp(drift+ethStd *\n",
    "                                          norm.ppf(random.SystemRandom.random(0))))\n",
    "    over500.append((0 if ethPred[-1] <= 500 else 1))\n",
    "    over1000.append((0 if ethPred[-1] <= 1000 else 1))\n",
    "    over1500.append((0 if ethPred[-1] <= 1500 else 1))\n",
    "    endPrice += ethPred[-1]\n",
    "\n",
    "prob500, prob1000, prob1500 = (over500.count(1)/numbOfSims), (over1000.count(1)/numbOfSims), (over1500.count(1)/numbOfSims)\n",
    "print(\n",
    "    \"Average predicted price of ETH on 6/2/2020: ${:.2f}\".format(endPrice/numbOfSims))\n",
    "print(\"Probability that ETH is over $500 by 6/2/2020: {}\\nProbability that ETH is over $1K by 6/2/2020: {}\\nProbability that BTC is over $1.5K by 6/2/2020: {}\\n\"\n",
    "      .format(prob500, prob1000, prob1500))\n",
    "print(\"* * * * * * * * * * * * * * * * * *\")"
   ]
  },
  {
   "cell_type": "code",
   "execution_count": 8,
   "metadata": {},
   "outputs": [
    {
     "name": "stdout",
     "output_type": "stream",
     "text": [
      "\n",
      "* * * * * * * * * * * * * * * * * *\n",
      "Number of Simulations:  500\n",
      "Average predicted price of ETH on 6/2/2020: $242.45\n",
      "Probability that LTC is over $200 by 6/2/2020: 0.278\n",
      "Probability that LTC is over $400 by 6/2/2020: 0.128\n",
      "Probability that LTC is over $800 by 6/2/2020: 0.052\n",
      "\n",
      "* * * * * * * * * * * * * * * * * *\n"
     ]
    }
   ],
   "source": [
    "ltc = pd.DataFrame(pd.read_csv(\"ltcprices.csv\"))\n",
    "ltcReturns = [np.log(ltc.Close[i]/ltc.Close[i+1]) for i in range(730)]\n",
    "ltcPrices = list(ltc.Close[:1000])[::-1]\n",
    "ltcStd = np.std(ltcReturns, ddof=1)\n",
    "ltcAvg = np.average(ltcReturns)\n",
    "ltcVar = ltcStd**2\n",
    "drift = ltcAvg - (ltcVar/2)\n",
    "over200, over400, over800 = [], [], []\n",
    "numbOfSims = 500\n",
    "endPrice = 0\n",
    "print(\"\\n* * * * * * * * * * * * * * * * * *\\nNumber of Simulations: \", numbOfSims)\n",
    "for simulation in range(numbOfSims):\n",
    "    ltcPred = [ltcPrices[-1]]\n",
    "    for day in range(366):\n",
    "        ltcPred.append(ltcPred[-1]*np.exp(drift+ltcStd *\n",
    "                                          norm.ppf(random.SystemRandom.random(0))))\n",
    "    over200.append((0 if ltcPred[-1] <= 200 else 1))\n",
    "    over400.append((0 if ltcPred[-1] <= 400 else 1))\n",
    "    over800.append((0 if ltcPred[-1] <= 800 else 1))\n",
    "    endPrice += ltcPred[-1]\n",
    "\n",
    "prob200, prob400, prob800 = (over200.count(1)/numbOfSims), (over400.count(1)/numbOfSims), (over800.count(1)/numbOfSims)\n",
    "print(\n",
    "    \"Average predicted price of ETH on 6/2/2020: ${:.2f}\".format(endPrice/numbOfSims))\n",
    "print(\"Probability that LTC is over $200 by 6/2/2020: {}\\nProbability that LTC is over $400 by 6/2/2020: {}\\nProbability that LTC is over $800 by 6/2/2020: {}\\n\"\n",
    "      .format(prob200, prob400, prob800))\n",
    "print(\"* * * * * * * * * * * * * * * * * *\")"
   ]
  }
 ],
 "metadata": {
  "kernelspec": {
   "display_name": "Python 3",
   "language": "python",
   "name": "python3"
  },
  "language_info": {
   "codemirror_mode": {
    "name": "ipython",
    "version": 3
   },
   "file_extension": ".py",
   "mimetype": "text/x-python",
   "name": "python",
   "nbconvert_exporter": "python",
   "pygments_lexer": "ipython3",
   "version": "3.7.3"
  }
 },
 "nbformat": 4,
 "nbformat_minor": 2
}
